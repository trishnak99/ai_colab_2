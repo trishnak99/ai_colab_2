{
  "nbformat": 4,
  "nbformat_minor": 0,
  "metadata": {
    "colab": {
      "name": "hw2_problem1.ipynb",
      "provenance": [],
      "include_colab_link": true
    },
    "kernelspec": {
      "name": "python3",
      "display_name": "Python 3"
    },
    "accelerator": "GPU"
  },
  "cells": [
    {
      "cell_type": "markdown",
      "metadata": {
        "id": "view-in-github",
        "colab_type": "text"
      },
      "source": [
        "<a href=\"https://colab.research.google.com/github/trishnak99/ai_colab_2/blob/master/hw2_problem1.ipynb\" target=\"_parent\"><img src=\"https://colab.research.google.com/assets/colab-badge.svg\" alt=\"Open In Colab\"/></a>"
      ]
    },
    {
      "cell_type": "markdown",
      "metadata": {
        "id": "rt44vyY1xW9b",
        "colab_type": "text"
      },
      "source": [
        "# Classification of MNIST digits with dense layers"
      ]
    },
    {
      "cell_type": "markdown",
      "metadata": {
        "id": "yH1EOQd6R2uQ",
        "colab_type": "text"
      },
      "source": [
        "## Loading the image data"
      ]
    },
    {
      "cell_type": "code",
      "metadata": {
        "id": "FSJyddqGexl5",
        "colab_type": "code",
        "outputId": "42ee1f17-5094-4eb5-968a-cc974fe41e6e",
        "colab": {
          "base_uri": "https://localhost:8080/",
          "height": 35
        }
      },
      "source": [
        "from keras.datasets import mnist\n",
        "\n",
        "(train_images_original, train_labels_original), (test_images_original, test_labels_original) = mnist.load_data()"
      ],
      "execution_count": 0,
      "outputs": [
        {
          "output_type": "stream",
          "text": [
            "Using TensorFlow backend.\n"
          ],
          "name": "stderr"
        }
      ]
    },
    {
      "cell_type": "markdown",
      "metadata": {
        "id": "91gu7qVhR6eX",
        "colab_type": "text"
      },
      "source": [
        "## Preparing the image data"
      ]
    },
    {
      "cell_type": "code",
      "metadata": {
        "id": "UB7_xf0hzsPx",
        "colab_type": "code",
        "colab": {}
      },
      "source": [
        "train_images = train_images_original.reshape((60000, 28 * 28))\n",
        "train_images = train_images.astype('float32') / 255\n",
        "\n",
        "test_images = test_images_original.reshape((10000, 28 * 28))\n",
        "test_images = test_images.astype('float32') / 255"
      ],
      "execution_count": 0,
      "outputs": []
    },
    {
      "cell_type": "markdown",
      "metadata": {
        "id": "HwRvZSOvSzXx",
        "colab_type": "text"
      },
      "source": [
        "## Preparing the labels\n",
        "\n",
        "We need to categorically encode the labels."
      ]
    },
    {
      "cell_type": "code",
      "metadata": {
        "id": "C1ulkKRPSgJP",
        "colab_type": "code",
        "colab": {}
      },
      "source": [
        "from keras.utils import to_categorical\n",
        "\n",
        "train_labels = to_categorical(train_labels_original)\n",
        "test_labels = to_categorical(test_labels_original)"
      ],
      "execution_count": 0,
      "outputs": []
    },
    {
      "cell_type": "markdown",
      "metadata": {
        "id": "rC8AL-W7Vunu",
        "colab_type": "text"
      },
      "source": [
        "## Deplaying some of the original and prepared image data and labels"
      ]
    },
    {
      "cell_type": "code",
      "metadata": {
        "id": "1mqqyfjeWBvO",
        "colab_type": "code",
        "outputId": "3a57c01f-3078-4e25-a1f9-44ed033daf01",
        "colab": {
          "base_uri": "https://localhost:8080/",
          "height": 35
        }
      },
      "source": [
        "train_images.shape"
      ],
      "execution_count": 0,
      "outputs": [
        {
          "output_type": "execute_result",
          "data": {
            "text/plain": [
              "(60000, 784)"
            ]
          },
          "metadata": {
            "tags": []
          },
          "execution_count": 4
        }
      ]
    },
    {
      "cell_type": "code",
      "metadata": {
        "id": "0gYNAbR4WM5d",
        "colab_type": "code",
        "outputId": "baf89590-a041-4f61-b545-19b68aa13dda",
        "colab": {
          "base_uri": "https://localhost:8080/",
          "height": 35
        }
      },
      "source": [
        "train_images_original.shape"
      ],
      "execution_count": 0,
      "outputs": [
        {
          "output_type": "execute_result",
          "data": {
            "text/plain": [
              "(60000, 28, 28)"
            ]
          },
          "metadata": {
            "tags": []
          },
          "execution_count": 5
        }
      ]
    },
    {
      "cell_type": "code",
      "metadata": {
        "id": "-uFEJL_WWRXI",
        "colab_type": "code",
        "outputId": "95dda162-1de2-465f-c29e-692dc04bdd66",
        "colab": {
          "base_uri": "https://localhost:8080/",
          "height": 269
        }
      },
      "source": [
        "import matplotlib.pyplot as plt\n",
        "plt.imshow(train_images_original[0])\n",
        "plt.show()"
      ],
      "execution_count": 0,
      "outputs": [
        {
          "output_type": "display_data",
          "data": {
            "image/png": "[encoded data removed]",
            "text/plain": [
              "<Figure size 432x288 with 1 Axes>"
            ]
          },
          "metadata": {
            "tags": []
          }
        }
      ]
    },
    {
      "cell_type": "code",
      "metadata": {
        "id": "lwUQhGR8O3Fu",
        "colab_type": "code",
        "outputId": "c617f6d0-3482-4757-b2f7-75e1916cacd0",
        "colab": {
          "base_uri": "https://localhost:8080/",
          "height": 35
        }
      },
      "source": [
        "train_labels.shape"
      ],
      "execution_count": 0,
      "outputs": [
        {
          "output_type": "execute_result",
          "data": {
            "text/plain": [
              "(60000, 10)"
            ]
          },
          "metadata": {
            "tags": []
          },
          "execution_count": 7
        }
      ]
    },
    {
      "cell_type": "code",
      "metadata": {
        "id": "45k_Qxb6TVx2",
        "colab_type": "code",
        "outputId": "83256eaa-2066-4eb7-b72c-5603c804ee38",
        "colab": {
          "base_uri": "https://localhost:8080/",
          "height": 35
        }
      },
      "source": [
        "train_labels[0]"
      ],
      "execution_count": 0,
      "outputs": [
        {
          "output_type": "execute_result",
          "data": {
            "text/plain": [
              "array([0., 0., 0., 0., 0., 1., 0., 0., 0., 0.], dtype=float32)"
            ]
          },
          "metadata": {
            "tags": []
          },
          "execution_count": 8
        }
      ]
    },
    {
      "cell_type": "code",
      "metadata": {
        "id": "3UuJmDovTZlO",
        "colab_type": "code",
        "colab": {}
      },
      "source": [
        "import numpy as np"
      ],
      "execution_count": 0,
      "outputs": []
    },
    {
      "cell_type": "code",
      "metadata": {
        "id": "2fvjL7woTmTN",
        "colab_type": "code",
        "outputId": "1a79cf45-a003-49e2-8416-43f4378e026a",
        "colab": {
          "base_uri": "https://localhost:8080/",
          "height": 35
        }
      },
      "source": [
        "np.argmax(train_labels[0])"
      ],
      "execution_count": 0,
      "outputs": [
        {
          "output_type": "execute_result",
          "data": {
            "text/plain": [
              "5"
            ]
          },
          "metadata": {
            "tags": []
          },
          "execution_count": 10
        }
      ]
    },
    {
      "cell_type": "code",
      "metadata": {
        "id": "Ta3BJNQQVasW",
        "colab_type": "code",
        "outputId": "f0c96bf2-c791-4ce4-efba-500be8e92ef0",
        "colab": {
          "base_uri": "https://localhost:8080/",
          "height": 35
        }
      },
      "source": [
        "train_labels_original[0]"
      ],
      "execution_count": 0,
      "outputs": [
        {
          "output_type": "execute_result",
          "data": {
            "text/plain": [
              "5"
            ]
          },
          "metadata": {
            "tags": []
          },
          "execution_count": 11
        }
      ]
    },
    {
      "cell_type": "markdown",
      "metadata": {
        "id": "D6FaIuAMzrpv",
        "colab_type": "text"
      },
      "source": [
        "##Handcrafted feature: width"
      ]
    },
    {
      "cell_type": "code",
      "metadata": {
        "id": "Yi4Ayrl_LZpI",
        "colab_type": "code",
        "colab": {}
      },
      "source": [
        "def calcWidth(image):\n",
        "  imageCopy = np.copy(image)\n",
        "  for i in range(28):\n",
        "    [1 if j >= 128 else 0 for j in imageCopy[i]]\n",
        "    \n",
        "  ymin = 30\n",
        "  ymax = -1\n",
        "  for i in range(28):\n",
        "    for j in range(28):\n",
        "      if imageCopy[i][j] == 1 and j < ymin:\n",
        "        ymin = j\n",
        "      elif imageCopy[i][j] == 1 and j > ymax:\n",
        "        ymax = j\n",
        "  width = (ymax-ymin + 1)/28\n",
        "\n",
        "  return width"
      ],
      "execution_count": 0,
      "outputs": []
    },
    {
      "cell_type": "markdown",
      "metadata": {
        "id": "3VeSqc4iz0WE",
        "colab_type": "text"
      },
      "source": [
        "## Handcrafted feature: height"
      ]
    },
    {
      "cell_type": "code",
      "metadata": {
        "id": "PQGMaQY7_4Ld",
        "colab_type": "code",
        "colab": {}
      },
      "source": [
        "def calcHeight(image):\n",
        "  imageCopy = np.copy(image)\n",
        "  for i in range(28):\n",
        "    [1 if j >= 128 else 0 for j in imageCopy[i]]\n",
        "  ymin = 30\n",
        "  ymax = -1\n",
        "  for i in range(28):\n",
        "    for j in imageCopy[i]:\n",
        "      if j == 1 and i < ymin:\n",
        "        ymin = i\n",
        "      elif j == 1 and i > ymax:\n",
        "        ymax = i\n",
        "\n",
        "  height = (ymax-ymin + 1)/28\n",
        "\n",
        "  return height"
      ],
      "execution_count": 0,
      "outputs": []
    },
    {
      "cell_type": "markdown",
      "metadata": {
        "id": "-NfLoPNiz6bu",
        "colab_type": "text"
      },
      "source": [
        "## Handcrafted feature: number of white regions"
      ]
    },
    {
      "cell_type": "code",
      "metadata": {
        "id": "JI7khb3V0Af8",
        "colab_type": "code",
        "colab": {}
      },
      "source": [
        "nextVal = 2\n",
        "\n",
        "def markWhiteRegion(image, row, col, curVal):\n",
        "  global nextVal\n",
        "  if (row >= 28) or (col >= 28):\n",
        "    return\n",
        "  if (row < 0) or (col < 0):\n",
        "    return\n",
        "  if image[row][col] == 1:\n",
        "    return\n",
        "  if image[row][col] > 1:\n",
        "    return\n",
        "  \n",
        "  if image[row][col] == 0:\n",
        "    image[row][col] = curVal\n",
        "  \n",
        "  markWhiteRegion(image, row + 1, col, curVal)\n",
        "  markWhiteRegion(image, row - 1, col, curVal)\n",
        "  markWhiteRegion(image, row, col + 1, curVal)\n",
        "  markWhiteRegion(image, row, col - 1, curVal)\n",
        "\n",
        "  nextVal = curVal + 1\n",
        "\n",
        "def countRegions(image):\n",
        "  global nextVal\n",
        "  imageCopy = np.copy(image)\n",
        "  for i in range(28):\n",
        "    [1 if j >= 128 else 0 for j in imageCopy[i]]\n",
        "  nextVal = 2\n",
        "\n",
        "  for i in range(28):\n",
        "    for j in range(28):\n",
        "      markWhiteRegion(imageCopy, i, j, nextVal)\n",
        "  return nextVal-2"
      ],
      "execution_count": 0,
      "outputs": []
    },
    {
      "cell_type": "markdown",
      "metadata": {
        "id": "AF6fYV2cAGiG",
        "colab_type": "text"
      },
      "source": [
        "##Add Features"
      ]
    },
    {
      "cell_type": "code",
      "metadata": {
        "colab_type": "code",
        "id": "S4n7qIy1hsIJ",
        "colab": {}
      },
      "source": [
        "whiteReg = np.zeros((60000, 1))\n",
        "height = np.zeros((60000, 1))\n",
        "width = np.zeros((60000, 1))\n",
        "for i in range(60000):\n",
        "  whiteReg[i] = countRegions(train_images_original[i])\n",
        "  height[i] = calcHeight(train_images_original[i])\n",
        "  width[i] = calcWidth(train_images_original[i])"
      ],
      "execution_count": 0,
      "outputs": []
    },
    {
      "cell_type": "code",
      "metadata": {
        "id": "3QXpUh5ZhlQx",
        "colab_type": "code",
        "outputId": "dcccb309-343f-48e7-fc23-06e535c35e64",
        "colab": {
          "base_uri": "https://localhost:8080/",
          "height": 34
        }
      },
      "source": [
        "train_images = train_images_original.reshape((60000, 28 * 28))\n",
        "train_images = train_images.astype('float32') / 255\n",
        "\n",
        "train_images_new = np.column_stack((train_images, whiteReg))\n",
        "train_images_new2 = np.column_stack((train_images_new, height))\n",
        "train_images_new3 = np.column_stack((train_images_new2, width))\n",
        "\n",
        "train_images_new3.shape"
      ],
      "execution_count": 0,
      "outputs": [
        {
          "output_type": "execute_result",
          "data": {
            "text/plain": [
              "(60000, 787)"
            ]
          },
          "metadata": {
            "tags": []
          },
          "execution_count": 39
        }
      ]
    },
    {
      "cell_type": "code",
      "metadata": {
        "id": "CoUGo0VOcrFa",
        "colab_type": "code",
        "colab": {}
      },
      "source": [
        "whiteReg10 = np.zeros((10000, 1))\n",
        "height10 = np.zeros((10000, 1))\n",
        "width10 = np.zeros((10000, 1))\n",
        "for i in range(10000):\n",
        "  whiteReg10[i] = countRegions(test_images_original[i])\n",
        "  height10[i] = calcHeight(test_images_original[i])\n",
        "  width10[i] = calcWidth(test_images_original[i])"
      ],
      "execution_count": 0,
      "outputs": []
    },
    {
      "cell_type": "code",
      "metadata": {
        "id": "ppv9QyaUc9U6",
        "colab_type": "code",
        "outputId": "f5ed0c6f-9c55-41ce-dbb0-2f175d03aefd",
        "colab": {
          "base_uri": "https://localhost:8080/",
          "height": 34
        }
      },
      "source": [
        "test_images = test_images_original.reshape((10000, 28 * 28))\n",
        "test_images = test_images.astype('float32') / 255\n",
        "\n",
        "test_images_new = np.column_stack((test_images, whiteReg10))\n",
        "test_images_new2 = np.column_stack((test_images_new, height10))\n",
        "test_images_new3 = np.column_stack((test_images_new2, width10))\n",
        "\n",
        "test_images_new3.shape"
      ],
      "execution_count": 0,
      "outputs": [
        {
          "output_type": "execute_result",
          "data": {
            "text/plain": [
              "(10000, 787)"
            ]
          },
          "metadata": {
            "tags": []
          },
          "execution_count": 44
        }
      ]
    },
    {
      "cell_type": "markdown",
      "metadata": {
        "id": "36YichvkWfgL",
        "colab_type": "text"
      },
      "source": [
        "## The network architecture"
      ]
    },
    {
      "cell_type": "code",
      "metadata": {
        "colab_type": "code",
        "outputId": "dd0eb3da-a084-48f1-be30-44b31f57f44b",
        "id": "NaD9rMQIig7a",
        "colab": {
          "base_uri": "https://localhost:8080/",
          "height": 221
        }
      },
      "source": [
        "from keras import models\n",
        "from keras import layers\n",
        "\n",
        "network = models.Sequential()\n",
        "network.add(layers.Dense(512, activation='relu', input_shape=(787,)))\n",
        "network.add(layers.Dense(10, activation='softmax'))\n",
        "network.summary()"
      ],
      "execution_count": 0,
      "outputs": [
        {
          "output_type": "stream",
          "text": [
            "Model: \"sequential_4\"\n",
            "_________________________________________________________________\n",
            "Layer (type)                 Output Shape              Param #   \n",
            "=================================================================\n",
            "dense_6 (Dense)              (None, 512)               403456    \n",
            "_________________________________________________________________\n",
            "dense_7 (Dense)              (None, 10)                5130      \n",
            "=================================================================\n",
            "Total params: 408,586\n",
            "Trainable params: 408,586\n",
            "Non-trainable params: 0\n",
            "_________________________________________________________________\n"
          ],
          "name": "stdout"
        }
      ]
    },
    {
      "cell_type": "markdown",
      "metadata": {
        "id": "8H6VF7ZIY6Oy",
        "colab_type": "text"
      },
      "source": [
        "## The compilation step"
      ]
    },
    {
      "cell_type": "code",
      "metadata": {
        "id": "mHp0sz7cYPsK",
        "colab_type": "code",
        "outputId": "006b8038-5a7c-4a0a-c0f2-abcf106b1bda",
        "colab": {
          "base_uri": "https://localhost:8080/",
          "height": 87
        }
      },
      "source": [
        "network.compile(optimizer='rmsprop',\n",
        "                loss='categorical_crossentropy',\n",
        "                metrics=['accuracy'])"
      ],
      "execution_count": 0,
      "outputs": [
        {
          "output_type": "stream",
          "text": [
            "WARNING:tensorflow:From /usr/local/lib/python3.6/dist-packages/keras/optimizers.py:793: The name tf.train.Optimizer is deprecated. Please use tf.compat.v1.train.Optimizer instead.\n",
            "\n",
            "WARNING:tensorflow:From /usr/local/lib/python3.6/dist-packages/keras/backend/tensorflow_backend.py:3576: The name tf.log is deprecated. Please use tf.math.log instead.\n",
            "\n"
          ],
          "name": "stdout"
        }
      ]
    },
    {
      "cell_type": "markdown",
      "metadata": {
        "id": "3SnwsJAtZtYx",
        "colab_type": "text"
      },
      "source": [
        "## The training step"
      ]
    },
    {
      "cell_type": "code",
      "metadata": {
        "id": "2YuVq3JIZksS",
        "colab_type": "code",
        "outputId": "68af49c6-7ee1-4ba8-e7fb-0e9b60250ad6",
        "colab": {
          "base_uri": "https://localhost:8080/",
          "height": 468
        }
      },
      "source": [
        "epochs = 10\n",
        "history = network.fit(train_images_new3, \n",
        "                      train_labels, \n",
        "                      epochs=epochs, \n",
        "                      batch_size=128, \n",
        "                      validation_data=(test_images_new3, test_labels))"
      ],
      "execution_count": 0,
      "outputs": [
        {
          "output_type": "stream",
          "text": [
            "WARNING:tensorflow:From /usr/local/lib/python3.6/dist-packages/tensorflow/python/ops/math_grad.py:1250: add_dispatch_support.<locals>.wrapper (from tensorflow.python.ops.array_ops) is deprecated and will be removed in a future version.\n",
            "Instructions for updating:\n",
            "Use tf.where in 2.0, which has the same broadcast rule as np.where\n",
            "WARNING:tensorflow:From /usr/local/lib/python3.6/dist-packages/keras/backend/tensorflow_backend.py:1033: The name tf.assign_add is deprecated. Please use tf.compat.v1.assign_add instead.\n",
            "\n",
            "Train on 60000 samples, validate on 10000 samples\n",
            "Epoch 1/10\n",
            "60000/60000 [==============================] - 3s 43us/step - loss: 0.2584 - acc: 0.9256 - val_loss: 0.1271 - val_acc: 0.9631\n",
            "Epoch 2/10\n",
            "60000/60000 [==============================] - 2s 25us/step - loss: 0.1035 - acc: 0.9693 - val_loss: 0.0883 - val_acc: 0.9736\n",
            "Epoch 3/10\n",
            "60000/60000 [==============================] - 2s 25us/step - loss: 0.0677 - acc: 0.9797 - val_loss: 0.0827 - val_acc: 0.9759\n",
            "Epoch 4/10\n",
            "60000/60000 [==============================] - 2s 25us/step - loss: 0.0500 - acc: 0.9847 - val_loss: 0.0722 - val_acc: 0.9777\n",
            "Epoch 5/10\n",
            "60000/60000 [==============================] - 2s 26us/step - loss: 0.0367 - acc: 0.9891 - val_loss: 0.0668 - val_acc: 0.9793\n",
            "Epoch 6/10\n",
            "60000/60000 [==============================] - 2s 25us/step - loss: 0.0279 - acc: 0.9919 - val_loss: 0.0661 - val_acc: 0.9798\n",
            "Epoch 7/10\n",
            "60000/60000 [==============================] - 2s 26us/step - loss: 0.0216 - acc: 0.9938 - val_loss: 0.0686 - val_acc: 0.9797\n",
            "Epoch 8/10\n",
            "60000/60000 [==============================] - 2s 25us/step - loss: 0.0168 - acc: 0.9953 - val_loss: 0.0607 - val_acc: 0.9829\n",
            "Epoch 9/10\n",
            "60000/60000 [==============================] - 2s 25us/step - loss: 0.0131 - acc: 0.9961 - val_loss: 0.0699 - val_acc: 0.9815\n",
            "Epoch 10/10\n",
            "60000/60000 [==============================] - 2s 25us/step - loss: 0.0102 - acc: 0.9973 - val_loss: 0.0716 - val_acc: 0.9818\n"
          ],
          "name": "stdout"
        }
      ]
    },
    {
      "cell_type": "markdown",
      "metadata": {
        "id": "vTtzYNe-a-Ro",
        "colab_type": "text"
      },
      "source": [
        "## Display the training/test loss/accuracy"
      ]
    },
    {
      "cell_type": "code",
      "metadata": {
        "id": "kZ70napGZ-cK",
        "colab_type": "code",
        "colab": {}
      },
      "source": [
        "history_dict = history.history\n",
        "loss_values = history_dict['loss']\n",
        "test_loss_values = history_dict['val_loss']\n",
        "epochs_range = range(1, epochs + 1)"
      ],
      "execution_count": 0,
      "outputs": []
    },
    {
      "cell_type": "code",
      "metadata": {
        "colab_type": "code",
        "outputId": "e7484e8f-0078-4191-9f42-8b29c354f472",
        "id": "3_UzwZb9i_Nt",
        "colab": {
          "base_uri": "https://localhost:8080/",
          "height": 295
        }
      },
      "source": [
        "plt.plot(epochs_range, loss_values, 'bo', label='Training loss')\n",
        "plt.plot(epochs_range, test_loss_values, 'ro', label='Test loss')\n",
        "plt.title('Training and test loss')\n",
        "plt.xlabel('Epochs')\n",
        "plt.ylabel('Loss')\n",
        "plt.legend()\n",
        "plt.show()"
      ],
      "execution_count": 0,
      "outputs": [
        {
          "output_type": "display_data",
          "data": {
            "image/png": "[encoded data removed]",
            "text/plain": [
              "<Figure size 432x288 with 1 Axes>"
            ]
          },
          "metadata": {
            "tags": []
          }
        }
      ]
    },
    {
      "cell_type": "code",
      "metadata": {
        "id": "-IB2uFCzez-e",
        "colab_type": "code",
        "colab": {}
      },
      "source": [
        "acc_values = history_dict['acc']\n",
        "test_acc_values = history_dict['val_acc']"
      ],
      "execution_count": 0,
      "outputs": []
    },
    {
      "cell_type": "code",
      "metadata": {
        "colab_type": "code",
        "outputId": "2da1849f-450b-432b-9318-063996e25419",
        "id": "AaRyD31hjWSf",
        "colab": {
          "base_uri": "https://localhost:8080/",
          "height": 295
        }
      },
      "source": [
        "plt.plot(epochs_range, acc_values, 'bo', label='Training accuracy')\n",
        "plt.plot(epochs_range, test_acc_values, 'ro', label='Test accuracy')\n",
        "plt.title('Training and test accuracy')\n",
        "plt.xlabel('Epochs')\n",
        "plt.ylabel('Accuracy')\n",
        "plt.legend()\n",
        "plt.show()"
      ],
      "execution_count": 0,
      "outputs": [
        {
          "output_type": "display_data",
          "data": {
            "image/png": "[encoded data removed]",
            "text/plain": [
              "<Figure size 432x288 with 1 Axes>"
            ]
          },
          "metadata": {
            "tags": []
          }
        }
      ]
    },
    {
      "cell_type": "markdown",
      "metadata": {
        "id": "h2stwglLgXE9",
        "colab_type": "text"
      },
      "source": [
        "## Overfitting\n",
        "\n",
        "As you can see, the training loss decreases with every epoch, and the training accuracy increases with every epoch. That's what you would expect when gradient descent optimization - the quantity you're trying to minimize should be less with every iteration.\n",
        "\n",
        "But this isn't the case for the training loss and accuracy: they seem to peak at the sixth epoch.\n",
        "\n",
        "This is an example of overfitting: a model that performs better on the training data isn't necessarily a model that performs better on data it has never seen before. You are overoptimizing on the training data, and you end up learning representations that are specific to the training data and don't generalize to data outside the training set."
      ]
    },
    {
      "cell_type": "markdown",
      "metadata": {
        "id": "iPbL28KUjWka",
        "colab_type": "text"
      },
      "source": [
        "## Showing some misclassified digits"
      ]
    },
    {
      "cell_type": "code",
      "metadata": {
        "id": "BkpI5di5kzEy",
        "colab_type": "code",
        "colab": {}
      },
      "source": [
        "predictions = network.predict(test_images)"
      ],
      "execution_count": 0,
      "outputs": []
    },
    {
      "cell_type": "code",
      "metadata": {
        "id": "MyoQ-72Kk7Ah",
        "colab_type": "code",
        "outputId": "5e931a82-8d7a-45d2-f392-c3b993cd8e01",
        "colab": {
          "base_uri": "https://localhost:8080/",
          "height": 69
        }
      },
      "source": [
        "predictions[0]"
      ],
      "execution_count": 0,
      "outputs": [
        {
          "output_type": "execute_result",
          "data": {
            "text/plain": [
              "array([1.2593197e-10, 2.5504799e-13, 1.6982765e-09, 9.8390474e-06,\n",
              "       4.8432587e-16, 8.0136751e-11, 4.0219836e-21, 9.9998975e-01,\n",
              "       8.7284117e-11, 3.3310721e-07], dtype=float32)"
            ]
          },
          "metadata": {
            "tags": []
          },
          "execution_count": 20
        }
      ]
    },
    {
      "cell_type": "code",
      "metadata": {
        "id": "kPhKmlKNl5tX",
        "colab_type": "code",
        "outputId": "2a872a97-aee2-4f74-db14-c4587a55773b",
        "colab": {
          "base_uri": "https://localhost:8080/",
          "height": 35
        }
      },
      "source": [
        "np.argmax(predictions[0])"
      ],
      "execution_count": 0,
      "outputs": [
        {
          "output_type": "execute_result",
          "data": {
            "text/plain": [
              "7"
            ]
          },
          "metadata": {
            "tags": []
          },
          "execution_count": 21
        }
      ]
    },
    {
      "cell_type": "code",
      "metadata": {
        "id": "OiTXq8M0mD-4",
        "colab_type": "code",
        "outputId": "b21cf9e9-b5c6-46cb-caa2-69b620466c8e",
        "colab": {
          "base_uri": "https://localhost:8080/",
          "height": 35
        }
      },
      "source": [
        "test_labels_original[0]"
      ],
      "execution_count": 0,
      "outputs": [
        {
          "output_type": "execute_result",
          "data": {
            "text/plain": [
              "7"
            ]
          },
          "metadata": {
            "tags": []
          },
          "execution_count": 22
        }
      ]
    },
    {
      "cell_type": "code",
      "metadata": {
        "id": "bD6JO8WbmMmo",
        "colab_type": "code",
        "colab": {}
      },
      "source": [
        "predicted_labels = np.argmax(predictions, axis=1) \n",
        "predicted_labels = predicted_labels.astype('uint8')"
      ],
      "execution_count": 0,
      "outputs": []
    },
    {
      "cell_type": "code",
      "metadata": {
        "id": "5sPpiYofpJLl",
        "colab_type": "code",
        "outputId": "ed464782-39ec-4fe5-d792-22db26099d77",
        "colab": {
          "base_uri": "https://localhost:8080/",
          "height": 35
        }
      },
      "source": [
        "predicted_labels"
      ],
      "execution_count": 0,
      "outputs": [
        {
          "output_type": "execute_result",
          "data": {
            "text/plain": [
              "array([7, 2, 1, ..., 4, 5, 6], dtype=uint8)"
            ]
          },
          "metadata": {
            "tags": []
          },
          "execution_count": 24
        }
      ]
    },
    {
      "cell_type": "code",
      "metadata": {
        "id": "82zScJn7pMuW",
        "colab_type": "code",
        "colab": {}
      },
      "source": [
        "wrong_indices = [i for i in range(10000) if predicted_labels[i] != test_labels_original[i]]"
      ],
      "execution_count": 0,
      "outputs": []
    },
    {
      "cell_type": "code",
      "metadata": {
        "id": "4rfbv49rpsSN",
        "colab_type": "code",
        "outputId": "7b4cec98-b877-45e5-cde8-7c6e179b0472",
        "colab": {
          "base_uri": "https://localhost:8080/",
          "height": 35
        }
      },
      "source": [
        "# The quantity below is equal to the test accuracy reported by the network fit method.\n",
        "1.0 - len(wrong_indices) / 10000.0"
      ],
      "execution_count": 0,
      "outputs": [
        {
          "output_type": "execute_result",
          "data": {
            "text/plain": [
              "0.9818"
            ]
          },
          "metadata": {
            "tags": []
          },
          "execution_count": 26
        }
      ]
    },
    {
      "cell_type": "code",
      "metadata": {
        "id": "6Pr6E4LNp219",
        "colab_type": "code",
        "colab": {}
      },
      "source": [
        "# This show the ith misclassified digit. \n",
        "i = 4\n",
        "wrong_index = wrong_indices[i]  "
      ],
      "execution_count": 0,
      "outputs": []
    },
    {
      "cell_type": "code",
      "metadata": {
        "id": "-SK4C_52q5oc",
        "colab_type": "code",
        "outputId": "df896d69-b739-4d28-ea1a-eb913c566631",
        "colab": {
          "base_uri": "https://localhost:8080/",
          "height": 35
        }
      },
      "source": [
        "predicted_labels[wrong_index]"
      ],
      "execution_count": 0,
      "outputs": [
        {
          "output_type": "execute_result",
          "data": {
            "text/plain": [
              "7"
            ]
          },
          "metadata": {
            "tags": []
          },
          "execution_count": 28
        }
      ]
    },
    {
      "cell_type": "code",
      "metadata": {
        "id": "mJiXy-LBq-Dz",
        "colab_type": "code",
        "outputId": "5459b2d9-4caf-437c-eb67-c86351ac82fc",
        "colab": {
          "base_uri": "https://localhost:8080/",
          "height": 35
        }
      },
      "source": [
        "test_labels_original[wrong_index]"
      ],
      "execution_count": 0,
      "outputs": [
        {
          "output_type": "execute_result",
          "data": {
            "text/plain": [
              "2"
            ]
          },
          "metadata": {
            "tags": []
          },
          "execution_count": 29
        }
      ]
    },
    {
      "cell_type": "code",
      "metadata": {
        "id": "1VE3-4X6rFDc",
        "colab_type": "code",
        "outputId": "55f7fc89-73bf-48b1-e6ad-d7fa7e46bab3",
        "colab": {
          "base_uri": "https://localhost:8080/",
          "height": 269
        }
      },
      "source": [
        "plt.imshow(test_images_original[wrong_index])\n",
        "plt.show()"
      ],
      "execution_count": 0,
      "outputs": [
        {
          "output_type": "display_data",
          "data": {
            "image/png": "[encoded data removed]",
            "text/plain": [
              "<Figure size 432x288 with 1 Axes>"
            ]
          },
          "metadata": {
            "tags": []
          }
        }
      ]
    },
    {
      "cell_type": "code",
      "metadata": {
        "id": "a5Lo7sDbrmKM",
        "colab_type": "code",
        "colab": {}
      },
      "source": [
        ""
      ],
      "execution_count": 0,
      "outputs": []
    }
  ]
}