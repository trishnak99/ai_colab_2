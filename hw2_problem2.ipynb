{
  "nbformat": 4,
  "nbformat_minor": 0,
  "metadata": {
    "colab": {
      "name": "hw2_problem2.ipynb",
      "provenance": [],
      "include_colab_link": true
    },
    "kernelspec": {
      "name": "python3",
      "display_name": "Python 3"
    },
    "accelerator": "GPU"
  },
  "cells": [
    {
      "cell_type": "markdown",
      "metadata": {
        "id": "view-in-github",
        "colab_type": "text"
      },
      "source": [
        "<a href=\"https://colab.research.google.com/github/trishnak99/ai_colab_2/blob/master/hw2_problem2.ipynb\" target=\"_parent\"><img src=\"https://colab.research.google.com/assets/colab-badge.svg\" alt=\"Open In Colab\"/></a>"
      ]
    },
    {
      "cell_type": "markdown",
      "metadata": {
        "id": "rt44vyY1xW9b",
        "colab_type": "text"
      },
      "source": [
        "# MNIST fashion data set"
      ]
    },
    {
      "cell_type": "markdown",
      "metadata": {
        "id": "l34GNy7tyNks",
        "colab_type": "text"
      },
      "source": [
        "## Loading the MNIST fashion data set"
      ]
    },
    {
      "cell_type": "code",
      "metadata": {
        "id": "FSJyddqGexl5",
        "colab_type": "code",
        "outputId": "ec5316e5-a7eb-4694-c980-6f436a3289aa",
        "colab": {
          "base_uri": "https://localhost:8080/",
          "height": 199
        }
      },
      "source": [
        "import tensorflow as tf\n",
        "from tensorflow import keras\n",
        "\n",
        "fashion_mnist = keras.datasets.fashion_mnist\n",
        "\n",
        "(train_images, train_labels), (test_images, test_labels) = fashion_mnist.load_data()"
      ],
      "execution_count": 2,
      "outputs": [
        {
          "output_type": "display_data",
          "data": {
            "text/html": [
              "<p style=\"color: red;\">\n",
              "The default version of TensorFlow in Colab will soon switch to TensorFlow 2.x.<br>\n",
              "We recommend you <a href=\"https://www.tensorflow.org/guide/migrate\" target=\"_blank\">upgrade</a> now \n",
              "or ensure your notebook will continue to use TensorFlow 1.x via the <code>%tensorflow_version 1.x</code> magic:\n",
              "<a href=\"https://colab.research.google.com/notebooks/tensorflow_version.ipynb\" target=\"_blank\">more info</a>.</p>\n"
            ],
            "text/plain": [
              "<IPython.core.display.HTML object>"
            ]
          },
          "metadata": {
            "tags": []
          }
        },
        {
          "output_type": "stream",
          "text": [
            "Downloading data from https://storage.googleapis.com/tensorflow/tf-keras-datasets/train-labels-idx1-ubyte.gz\n",
            "32768/29515 [=================================] - 0s 0us/step\n",
            "Downloading data from https://storage.googleapis.com/tensorflow/tf-keras-datasets/train-images-idx3-ubyte.gz\n",
            "26427392/26421880 [==============================] - 0s 0us/step\n",
            "Downloading data from https://storage.googleapis.com/tensorflow/tf-keras-datasets/t10k-labels-idx1-ubyte.gz\n",
            "8192/5148 [===============================================] - 0s 0us/step\n",
            "Downloading data from https://storage.googleapis.com/tensorflow/tf-keras-datasets/t10k-images-idx3-ubyte.gz\n",
            "4423680/4422102 [==============================] - 0s 0us/step\n"
          ],
          "name": "stdout"
        }
      ]
    },
    {
      "cell_type": "markdown",
      "metadata": {
        "id": "XuWVQX3CySIC",
        "colab_type": "text"
      },
      "source": [
        "## Exploring the format of the MNIST fashion data set"
      ]
    },
    {
      "cell_type": "code",
      "metadata": {
        "id": "HKyztEf4fkBg",
        "colab_type": "code",
        "outputId": "4fc0ae9d-cc56-4070-a491-65b10ebc6bfd",
        "colab": {
          "base_uri": "https://localhost:8080/",
          "height": 34
        }
      },
      "source": [
        "train_images.shape"
      ],
      "execution_count": 0,
      "outputs": [
        {
          "output_type": "execute_result",
          "data": {
            "text/plain": [
              "(60000, 28, 28)"
            ]
          },
          "metadata": {
            "tags": []
          },
          "execution_count": 2
        }
      ]
    },
    {
      "cell_type": "code",
      "metadata": {
        "id": "vA81OpzFyjyS",
        "colab_type": "code",
        "outputId": "1bb0c258-b302-400d-e54f-83ce6376818a",
        "colab": {
          "base_uri": "https://localhost:8080/",
          "height": 34
        }
      },
      "source": [
        "len(train_images)"
      ],
      "execution_count": 0,
      "outputs": [
        {
          "output_type": "execute_result",
          "data": {
            "text/plain": [
              "60000"
            ]
          },
          "metadata": {
            "tags": []
          },
          "execution_count": 5
        }
      ]
    },
    {
      "cell_type": "code",
      "metadata": {
        "id": "w85BC1AXxwds",
        "colab_type": "code",
        "outputId": "858df7c5-7f1f-411e-88c5-5dde651cf633",
        "colab": {
          "base_uri": "https://localhost:8080/",
          "height": 34
        }
      },
      "source": [
        "train_images.ndim"
      ],
      "execution_count": 0,
      "outputs": [
        {
          "output_type": "execute_result",
          "data": {
            "text/plain": [
              "3"
            ]
          },
          "metadata": {
            "tags": []
          },
          "execution_count": 6
        }
      ]
    },
    {
      "cell_type": "code",
      "metadata": {
        "id": "1sHFiZBFxnrB",
        "colab_type": "code",
        "outputId": "f545548a-7cd3-4804-d888-bf30f15023d3",
        "colab": {
          "base_uri": "https://localhost:8080/",
          "height": 34
        }
      },
      "source": [
        "train_images.dtype"
      ],
      "execution_count": 0,
      "outputs": [
        {
          "output_type": "execute_result",
          "data": {
            "text/plain": [
              "dtype('uint8')"
            ]
          },
          "metadata": {
            "tags": []
          },
          "execution_count": 7
        }
      ]
    },
    {
      "cell_type": "code",
      "metadata": {
        "id": "euQWeEkpyCL5",
        "colab_type": "code",
        "outputId": "55cb88bc-8a5d-46ad-c20a-d01fc9c8e769",
        "colab": {
          "base_uri": "https://localhost:8080/",
          "height": 34
        }
      },
      "source": [
        "train_labels"
      ],
      "execution_count": 0,
      "outputs": [
        {
          "output_type": "execute_result",
          "data": {
            "text/plain": [
              "array([9, 0, 0, ..., 3, 0, 5], dtype=uint8)"
            ]
          },
          "metadata": {
            "tags": []
          },
          "execution_count": 8
        }
      ]
    },
    {
      "cell_type": "code",
      "metadata": {
        "id": "jqv0aUL-gGU_",
        "colab_type": "code",
        "outputId": "b3d1086c-d0d3-487c-c337-02dcdde39af3",
        "colab": {
          "base_uri": "https://localhost:8080/",
          "height": 34
        }
      },
      "source": [
        "len(train_labels)"
      ],
      "execution_count": 0,
      "outputs": [
        {
          "output_type": "execute_result",
          "data": {
            "text/plain": [
              "60000"
            ]
          },
          "metadata": {
            "tags": []
          },
          "execution_count": 9
        }
      ]
    },
    {
      "cell_type": "code",
      "metadata": {
        "id": "aa2r6ZRcO7XV",
        "colab_type": "code",
        "colab": {}
      },
      "source": [
        "class_names = ['T-shirt/top', 'Trouser', 'Pullover', 'Dress', 'Coat',\n",
        "               'Sandal', 'Shirt', 'Sneaker', 'Bag', 'Ankle boot']"
      ],
      "execution_count": 0,
      "outputs": []
    },
    {
      "cell_type": "markdown",
      "metadata": {
        "id": "dmQ2siA7ywPx",
        "colab_type": "text"
      },
      "source": [
        "## Displaying some MNIST fashion items"
      ]
    },
    {
      "cell_type": "code",
      "metadata": {
        "id": "uSj4HIhWzBxl",
        "colab_type": "code",
        "colab": {}
      },
      "source": [
        "import matplotlib.pyplot as plt\n",
        "import numpy as np"
      ],
      "execution_count": 0,
      "outputs": []
    },
    {
      "cell_type": "code",
      "metadata": {
        "id": "1Gdt3obzgQaY",
        "colab_type": "code",
        "outputId": "08aad788-d1ac-4dbb-f006-ad5a619d3e30",
        "colab": {
          "base_uri": "https://localhost:8080/",
          "height": 589
        }
      },
      "source": [
        "plt.figure(figsize=(10,10))\n",
        "indices = np.random.choice(np.arange(60000), size=25, replace=False)\n",
        "for i in range(25):\n",
        "    plt.subplot(5,5,i+1)\n",
        "    plt.xticks([])\n",
        "    plt.yticks([])\n",
        "    plt.grid(False)\n",
        "    plt.imshow(train_images[i], cmap=plt.cm.binary)\n",
        "    plt.xlabel(class_names[train_labels[i]])\n",
        "plt.show()"
      ],
      "execution_count": 0,
      "outputs": [
        {
          "output_type": "display_data",
          "data": {
            "image/png": "[encoded data removed]",
            "text/plain": [
              "<Figure size 720x720 with 25 Axes>"
            ]
          },
          "metadata": {
            "tags": []
          }
        }
      ]
    },
    {
      "cell_type": "markdown",
      "metadata": {
        "id": "Rcch4U30N53_",
        "colab_type": "text"
      },
      "source": [
        "The data must be preprocessed before training the network. If you inspect the first image in the training set, you will see that the pixel values fall in the range of 0 to 255:"
      ]
    },
    {
      "cell_type": "code",
      "metadata": {
        "id": "luvWbddTMtTX",
        "colab_type": "code",
        "outputId": "fdab22b0-c0aa-48b1-c5d7-9baef0a140bd",
        "colab": {
          "base_uri": "https://localhost:8080/",
          "height": 265
        }
      },
      "source": [
        "plt.figure()\n",
        "plt.imshow(train_images[0])\n",
        "plt.colorbar()\n",
        "plt.grid(False)\n",
        "plt.show()"
      ],
      "execution_count": 0,
      "outputs": [
        {
          "output_type": "display_data",
          "data": {
            "image/png": "[encoded data removed]",
            "text/plain": [
              "<Figure size 432x288 with 2 Axes>"
            ]
          },
          "metadata": {
            "tags": []
          }
        }
      ]
    },
    {
      "cell_type": "markdown",
      "metadata": {
        "id": "JC5iBT_0OCSl",
        "colab_type": "text"
      },
      "source": [
        "## Preprocess the data"
      ]
    },
    {
      "cell_type": "code",
      "metadata": {
        "id": "inugSPsZNytV",
        "colab_type": "code",
        "colab": {}
      },
      "source": [
        "train_images = train_images / 255.0\n",
        "test_images = test_images / 255.0"
      ],
      "execution_count": 0,
      "outputs": []
    },
    {
      "cell_type": "markdown",
      "metadata": {
        "id": "y9HKRQWeXu69",
        "colab_type": "text"
      },
      "source": [
        "##Define graph functions\n"
      ]
    },
    {
      "cell_type": "code",
      "metadata": {
        "id": "Gy6B32siXtlx",
        "colab_type": "code",
        "colab": {}
      },
      "source": [
        "def graphAcc(history):\n",
        "  history_dict = history.history\n",
        "  acc_values = history_dict['acc']\n",
        "  test_acc_values = history_dict['val_acc']\n",
        "  epochs_range = range(1, epochs+1)\n",
        "\n",
        "  plt.plot(epochs_range, acc_values, 'bo', label='Training accuracy')\n",
        "  plt.plot(epochs_range, test_acc_values, 'ro', label='Test accuracy')\n",
        "  plt.title('Training and test accuracy')\n",
        "  plt.xlabel('Epochs')\n",
        "  plt.ylabel('Accuracy')\n",
        "  plt.legend()\n",
        "  plt.show()\n",
        "\n",
        "def graphLoss(history):\n",
        "  history_dict = history.history\n",
        "  loss_values = history_dict['loss']\n",
        "  test_loss_values = history_dict['val_loss']\n",
        "  epochs_range = range(1, epochs + 1)\n",
        "  \n",
        "  plt.plot(epochs_range, loss_values, 'bo', label='Training loss')\n",
        "  plt.plot(epochs_range, test_loss_values, 'ro', label='Test loss')\n",
        "  plt.title('Training and test loss')\n",
        "  plt.xlabel('Epochs')\n",
        "  plt.ylabel('Loss')\n",
        "  plt.legend()\n",
        "  plt.show()"
      ],
      "execution_count": 0,
      "outputs": []
    },
    {
      "cell_type": "markdown",
      "metadata": {
        "id": "yYAMzXlHS_l0",
        "colab_type": "text"
      },
      "source": [
        "##Build underfit"
      ]
    },
    {
      "cell_type": "code",
      "metadata": {
        "id": "xdFt73pXTG3f",
        "colab_type": "code",
        "outputId": "0c146da1-e392-496c-ac13-6519c6107438",
        "colab": {
          "base_uri": "https://localhost:8080/",
          "height": 408
        }
      },
      "source": [
        "# set up the layers\n",
        "\n",
        "model = keras.Sequential([\n",
        "    keras.layers.Flatten(input_shape=(28, 28)),\n",
        "    keras.layers.Dense(5, activation=tf.nn.relu),\n",
        "    keras.layers.Dense(10, activation=tf.nn.softmax),\n",
        "    keras.layers.Dropout(0.35)\n",
        "    \n",
        "])\n",
        "\n",
        "# compile the model\n",
        "\n",
        "model.compile(optimizer='adam',\n",
        "             loss='sparse_categorical_crossentropy',\n",
        "             metrics=['accuracy'])\n",
        "\n",
        "# train the model\n",
        "epochs = 10\n",
        "history = model.fit(train_images, \n",
        "                      train_labels, \n",
        "                      epochs=epochs,  \n",
        "                      validation_data=(test_images, test_labels))\n",
        "\n",
        "test_loss, test_acc = model.evaluate(test_images, test_labels)\n",
        "\n",
        "print('Test accuracy:', test_acc)"
      ],
      "execution_count": 7,
      "outputs": [
        {
          "output_type": "stream",
          "text": [
            "Train on 60000 samples, validate on 10000 samples\n",
            "Epoch 1/10\n",
            "60000/60000 [==============================] - 7s 110us/sample - loss: 5.3385 - acc: 0.3893 - val_loss: 1.8864 - val_acc: 0.5902\n",
            "Epoch 2/10\n",
            "60000/60000 [==============================] - 7s 111us/sample - loss: 4.3258 - acc: 0.4563 - val_loss: 1.8772 - val_acc: 0.6206\n",
            "Epoch 3/10\n",
            "60000/60000 [==============================] - 7s 109us/sample - loss: 4.1869 - acc: 0.4683 - val_loss: 1.8321 - val_acc: 0.6345\n",
            "Epoch 4/10\n",
            "60000/60000 [==============================] - 7s 110us/sample - loss: 4.0674 - acc: 0.4825 - val_loss: 1.8378 - val_acc: 0.6435\n",
            "Epoch 5/10\n",
            "60000/60000 [==============================] - 7s 109us/sample - loss: 3.9901 - acc: 0.4886 - val_loss: 1.7683 - val_acc: 0.6697\n",
            "Epoch 6/10\n",
            "60000/60000 [==============================] - 6s 108us/sample - loss: 3.9386 - acc: 0.4976 - val_loss: 1.7619 - val_acc: 0.6809\n",
            "Epoch 7/10\n",
            "60000/60000 [==============================] - 7s 116us/sample - loss: 3.8745 - acc: 0.5066 - val_loss: 1.7404 - val_acc: 0.6967\n",
            "Epoch 8/10\n",
            "60000/60000 [==============================] - 6s 108us/sample - loss: 3.8067 - acc: 0.5134 - val_loss: 1.8490 - val_acc: 0.6983\n",
            "Epoch 9/10\n",
            "60000/60000 [==============================] - 7s 111us/sample - loss: 3.7236 - acc: 0.5167 - val_loss: 1.7915 - val_acc: 0.7145\n",
            "Epoch 10/10\n",
            "60000/60000 [==============================] - 6s 108us/sample - loss: 3.6733 - acc: 0.5214 - val_loss: 1.8122 - val_acc: 0.7177\n",
            "10000/10000 [==============================] - 1s 69us/sample - loss: 1.8122 - acc: 0.7177\n",
            "Test accuracy: 0.7177\n"
          ],
          "name": "stdout"
        }
      ]
    },
    {
      "cell_type": "code",
      "metadata": {
        "colab_type": "code",
        "id": "A7MhUv6JUayU",
        "outputId": "8ac57342-d798-4bec-b9cc-45ad0609fe38",
        "colab": {
          "base_uri": "https://localhost:8080/",
          "height": 573
        }
      },
      "source": [
        "graphAcc(history)\n",
        "graphLoss(history)"
      ],
      "execution_count": 8,
      "outputs": [
        {
          "output_type": "display_data",
          "data": {
            "image/png": "[encoded data removed]",
            "text/plain": [
              "<Figure size 432x288 with 1 Axes>"
            ]
          },
          "metadata": {
            "tags": []
          }
        },
        {
          "output_type": "display_data",
          "data": {
            "image/png": "[encoded data removed]",
            "text/plain": [
              "<Figure size 432x288 with 1 Axes>"
            ]
          },
          "metadata": {
            "tags": []
          }
        }
      ]
    },
    {
      "cell_type": "markdown",
      "metadata": {
        "id": "N728IUSYHhKa",
        "colab_type": "text"
      },
      "source": [
        "##Build overfit"
      ]
    },
    {
      "cell_type": "code",
      "metadata": {
        "id": "7Qaw8_7wHzQ4",
        "colab_type": "code",
        "outputId": "4fb443d5-12ae-4c5c-85cf-0c28b0388a3c",
        "colab": {
          "base_uri": "https://localhost:8080/",
          "height": 748
        }
      },
      "source": [
        "# set up the layers\n",
        "\n",
        "model = keras.Sequential([\n",
        "    keras.layers.Flatten(input_shape=(28, 28)),\n",
        "    keras.layers.Dense(128*4, activation=tf.nn.relu),\n",
        "    keras.layers.Dense(10, activation=tf.nn.softmax)\n",
        "])\n",
        "\n",
        "# compile the model\n",
        "\n",
        "model.compile(optimizer='adam',\n",
        "             loss='sparse_categorical_crossentropy',\n",
        "             metrics=['accuracy'])\n",
        "\n",
        "# train the model\n",
        "epochs = 20\n",
        "history = model.fit(train_images, \n",
        "                      train_labels, \n",
        "                      epochs=epochs,  \n",
        "                      validation_data=(test_images, test_labels))\n",
        "\n",
        "test_loss, test_acc = model.evaluate(test_images, test_labels)\n",
        "\n",
        "print('Test accuracy:', test_acc)"
      ],
      "execution_count": 9,
      "outputs": [
        {
          "output_type": "stream",
          "text": [
            "Train on 60000 samples, validate on 10000 samples\n",
            "Epoch 1/20\n",
            "60000/60000 [==============================] - 7s 114us/sample - loss: 0.4729 - acc: 0.8313 - val_loss: 0.4120 - val_acc: 0.8523\n",
            "Epoch 2/20\n",
            "60000/60000 [==============================] - 7s 109us/sample - loss: 0.3602 - acc: 0.8683 - val_loss: 0.3764 - val_acc: 0.8669\n",
            "Epoch 3/20\n",
            "60000/60000 [==============================] - 7s 110us/sample - loss: 0.3208 - acc: 0.8827 - val_loss: 0.3821 - val_acc: 0.8553\n",
            "Epoch 4/20\n",
            "60000/60000 [==============================] - 7s 110us/sample - loss: 0.2984 - acc: 0.8901 - val_loss: 0.3568 - val_acc: 0.8756\n",
            "Epoch 5/20\n",
            "60000/60000 [==============================] - 7s 111us/sample - loss: 0.2806 - acc: 0.8953 - val_loss: 0.3395 - val_acc: 0.8752\n",
            "Epoch 6/20\n",
            "60000/60000 [==============================] - 7s 111us/sample - loss: 0.2666 - acc: 0.9001 - val_loss: 0.3188 - val_acc: 0.8879\n",
            "Epoch 7/20\n",
            "60000/60000 [==============================] - 7s 112us/sample - loss: 0.2532 - acc: 0.9059 - val_loss: 0.3409 - val_acc: 0.8817\n",
            "Epoch 8/20\n",
            "60000/60000 [==============================] - 7s 110us/sample - loss: 0.2422 - acc: 0.9100 - val_loss: 0.3680 - val_acc: 0.8759\n",
            "Epoch 9/20\n",
            "60000/60000 [==============================] - 7s 110us/sample - loss: 0.2325 - acc: 0.9132 - val_loss: 0.3648 - val_acc: 0.8754\n",
            "Epoch 10/20\n",
            "60000/60000 [==============================] - 7s 111us/sample - loss: 0.2202 - acc: 0.9167 - val_loss: 0.3234 - val_acc: 0.8908\n",
            "Epoch 11/20\n",
            "60000/60000 [==============================] - 7s 111us/sample - loss: 0.2122 - acc: 0.9199 - val_loss: 0.3277 - val_acc: 0.8908\n",
            "Epoch 12/20\n",
            "60000/60000 [==============================] - 6s 107us/sample - loss: 0.2061 - acc: 0.9236 - val_loss: 0.3315 - val_acc: 0.8910\n",
            "Epoch 13/20\n",
            "60000/60000 [==============================] - 6s 108us/sample - loss: 0.1982 - acc: 0.9263 - val_loss: 0.3387 - val_acc: 0.8881\n",
            "Epoch 14/20\n",
            "60000/60000 [==============================] - 6s 108us/sample - loss: 0.1907 - acc: 0.9297 - val_loss: 0.3214 - val_acc: 0.8955\n",
            "Epoch 15/20\n",
            "60000/60000 [==============================] - 7s 109us/sample - loss: 0.1845 - acc: 0.9307 - val_loss: 0.3545 - val_acc: 0.8877\n",
            "Epoch 16/20\n",
            "60000/60000 [==============================] - 6s 106us/sample - loss: 0.1781 - acc: 0.9331 - val_loss: 0.3747 - val_acc: 0.8804\n",
            "Epoch 17/20\n",
            "60000/60000 [==============================] - 7s 110us/sample - loss: 0.1725 - acc: 0.9351 - val_loss: 0.3309 - val_acc: 0.8951\n",
            "Epoch 18/20\n",
            "60000/60000 [==============================] - 6s 108us/sample - loss: 0.1654 - acc: 0.9366 - val_loss: 0.3673 - val_acc: 0.8871\n",
            "Epoch 19/20\n",
            "60000/60000 [==============================] - 7s 112us/sample - loss: 0.1636 - acc: 0.9383 - val_loss: 0.3883 - val_acc: 0.8826\n",
            "Epoch 20/20\n",
            "60000/60000 [==============================] - 7s 112us/sample - loss: 0.1569 - acc: 0.9402 - val_loss: 0.3596 - val_acc: 0.8909\n",
            "10000/10000 [==============================] - 1s 66us/sample - loss: 0.3596 - acc: 0.8909\n",
            "Test accuracy: 0.8909\n"
          ],
          "name": "stdout"
        }
      ]
    },
    {
      "cell_type": "code",
      "metadata": {
        "colab_type": "code",
        "id": "vFA9yfTcUCjy",
        "colab": {
          "base_uri": "https://localhost:8080/",
          "height": 573
        },
        "outputId": "54a3de14-19a0-462f-b7fc-a11d5cd681e5"
      },
      "source": [
        "graphAcc(history)\n",
        "graphLoss(history)"
      ],
      "execution_count": 10,
      "outputs": [
        {
          "output_type": "display_data",
          "data": {
            "image/png": "[encoded data removed]",
            "text/plain": [
              "<Figure size 432x288 with 1 Axes>"
            ]
          },
          "metadata": {
            "tags": []
          }
        },
        {
          "output_type": "display_data",
          "data": {
            "image/png": "[encoded data removed]",
            "text/plain": [
              "<Figure size 432x288 with 1 Axes>"
            ]
          },
          "metadata": {
            "tags": []
          }
        }
      ]
    },
    {
      "cell_type": "markdown",
      "metadata": {
        "id": "2hScawrPHuc1",
        "colab_type": "text"
      },
      "source": [
        "##Build good fit"
      ]
    },
    {
      "cell_type": "code",
      "metadata": {
        "colab_type": "code",
        "id": "AjxZsPDeUmJH",
        "outputId": "d0a7fe53-e0fe-4a01-fccf-67379c1dcc18",
        "colab": {
          "base_uri": "https://localhost:8080/",
          "height": 578
        }
      },
      "source": [
        "# set up the layers\n",
        "\n",
        "model = keras.Sequential([\n",
        "    keras.layers.Flatten(input_shape=(28, 28)),\n",
        "    keras.layers.Dense(64, activation=tf.nn.relu),\n",
        "    keras.layers.Dropout(0.21),\n",
        "    keras.layers.Dense(128, activation=tf.nn.relu),\n",
        "    keras.layers.Dropout(0.22),\n",
        "    keras.layers.Dense(256, activation=tf.nn.relu),\n",
        "    keras.layers.Dropout(0.23),\n",
        "    keras.layers.Dense(10, activation=tf.nn.softmax)\n",
        "])\n",
        "\n",
        "\n",
        "# compile the model\n",
        "\n",
        "model.compile(optimizer='adam',\n",
        "             loss='sparse_categorical_crossentropy',\n",
        "             metrics=['accuracy'])\n",
        "\n",
        "# train the model\n",
        "epochs = 15\n",
        "history = model.fit(train_images, \n",
        "                      train_labels, \n",
        "                      epochs=epochs,  \n",
        "                      validation_data=(test_images, test_labels))\n",
        "\n",
        "test_loss, test_acc = model.evaluate(test_images, test_labels)\n",
        "\n",
        "print('Test accuracy:', test_acc)"
      ],
      "execution_count": 0,
      "outputs": [
        {
          "output_type": "stream",
          "text": [
            "Train on 60000 samples, validate on 10000 samples\n",
            "Epoch 1/15\n",
            "60000/60000 [==============================] - 8s 134us/sample - loss: 0.6076 - acc: 0.7785 - val_loss: 0.4396 - val_acc: 0.8422\n",
            "Epoch 2/15\n",
            "60000/60000 [==============================] - 8s 127us/sample - loss: 0.4540 - acc: 0.8364 - val_loss: 0.4119 - val_acc: 0.8509\n",
            "Epoch 3/15\n",
            "60000/60000 [==============================] - 8s 129us/sample - loss: 0.4227 - acc: 0.8482 - val_loss: 0.3893 - val_acc: 0.8607\n",
            "Epoch 4/15\n",
            "60000/60000 [==============================] - 8s 126us/sample - loss: 0.3996 - acc: 0.8543 - val_loss: 0.3968 - val_acc: 0.8540\n",
            "Epoch 5/15\n",
            "60000/60000 [==============================] - 8s 127us/sample - loss: 0.3911 - acc: 0.8590 - val_loss: 0.3744 - val_acc: 0.8614\n",
            "Epoch 6/15\n",
            "60000/60000 [==============================] - 8s 127us/sample - loss: 0.3734 - acc: 0.8628 - val_loss: 0.3673 - val_acc: 0.8689\n",
            "Epoch 7/15\n",
            "60000/60000 [==============================] - 8s 126us/sample - loss: 0.3683 - acc: 0.8673 - val_loss: 0.3898 - val_acc: 0.8557\n",
            "Epoch 8/15\n",
            "60000/60000 [==============================] - 8s 125us/sample - loss: 0.3606 - acc: 0.8678 - val_loss: 0.3628 - val_acc: 0.8668\n",
            "Epoch 9/15\n",
            "60000/60000 [==============================] - 8s 125us/sample - loss: 0.3528 - acc: 0.8723 - val_loss: 0.3454 - val_acc: 0.8760\n",
            "Epoch 10/15\n",
            "60000/60000 [==============================] - 8s 126us/sample - loss: 0.3457 - acc: 0.8732 - val_loss: 0.3524 - val_acc: 0.8747\n",
            "Epoch 11/15\n",
            "60000/60000 [==============================] - 7s 124us/sample - loss: 0.3438 - acc: 0.8724 - val_loss: 0.3496 - val_acc: 0.8756\n",
            "Epoch 12/15\n",
            "60000/60000 [==============================] - 7s 124us/sample - loss: 0.3384 - acc: 0.8771 - val_loss: 0.3470 - val_acc: 0.8767\n",
            "Epoch 13/15\n",
            "60000/60000 [==============================] - 8s 126us/sample - loss: 0.3337 - acc: 0.8778 - val_loss: 0.3507 - val_acc: 0.8748\n",
            "Epoch 14/15\n",
            "60000/60000 [==============================] - 8s 126us/sample - loss: 0.3294 - acc: 0.8802 - val_loss: 0.3513 - val_acc: 0.8721\n",
            "Epoch 15/15\n",
            "60000/60000 [==============================] - 7s 124us/sample - loss: 0.3285 - acc: 0.8801 - val_loss: 0.3468 - val_acc: 0.8766\n",
            "10000/10000 [==============================] - 1s 74us/sample - loss: 0.3468 - acc: 0.8766\n",
            "Test accuracy: 0.8766\n"
          ],
          "name": "stdout"
        }
      ]
    },
    {
      "cell_type": "code",
      "metadata": {
        "colab_type": "code",
        "id": "v3Ezp05GUe4B",
        "outputId": "c6371e91-c8d2-488d-c6fd-eee97caf73f3",
        "colab": {
          "base_uri": "https://localhost:8080/",
          "height": 295
        }
      },
      "source": [
        "graphAcc(history)\n",
        "graphLoss(history)"
      ],
      "execution_count": 0,
      "outputs": [
        {
          "output_type": "display_data",
          "data": {
            "image/png": "[encoded data removed]",
            "text/plain": [
              "<Figure size 432x288 with 1 Axes>"
            ]
          },
          "metadata": {
            "tags": []
          }
        }
      ]
    },
    {
      "cell_type": "markdown",
      "metadata": {
        "id": "2zpnxENIWj4N",
        "colab_type": "text"
      },
      "source": [
        "## Make predictions"
      ]
    },
    {
      "cell_type": "code",
      "metadata": {
        "id": "EMJTp1IDQIXE",
        "colab_type": "code",
        "colab": {}
      },
      "source": [
        "predictions = model.predict(test_images)"
      ],
      "execution_count": 0,
      "outputs": []
    },
    {
      "cell_type": "code",
      "metadata": {
        "id": "AoYG5h-ZWqzU",
        "colab_type": "code",
        "outputId": "9477fd44-c853-4db3-8823-81242ea151b2",
        "colab": {
          "base_uri": "https://localhost:8080/",
          "height": 67
        }
      },
      "source": [
        "index = 0\n",
        "predictions[index]"
      ],
      "execution_count": 0,
      "outputs": [
        {
          "output_type": "execute_result",
          "data": {
            "text/plain": [
              "array([2.9914429e-11, 7.4761225e-11, 1.6990869e-12, 9.6232652e-16,\n",
              "       1.2249764e-12, 9.5190110e-08, 9.6787389e-10, 7.6151040e-04,\n",
              "       2.6918827e-12, 9.9923837e-01], dtype=float32)"
            ]
          },
          "metadata": {
            "tags": []
          },
          "execution_count": 20
        }
      ]
    },
    {
      "cell_type": "code",
      "metadata": {
        "id": "IU2elMC0Wsju",
        "colab_type": "code",
        "outputId": "61478dc4-deba-4267-ac6d-0bc6949075d4",
        "colab": {
          "base_uri": "https://localhost:8080/",
          "height": 34
        }
      },
      "source": [
        "np.argmax(predictions[index])"
      ],
      "execution_count": 0,
      "outputs": [
        {
          "output_type": "execute_result",
          "data": {
            "text/plain": [
              "9"
            ]
          },
          "metadata": {
            "tags": []
          },
          "execution_count": 21
        }
      ]
    },
    {
      "cell_type": "code",
      "metadata": {
        "id": "ohfgh9IsWx48",
        "colab_type": "code",
        "outputId": "140bc6e0-10d8-4790-c3dd-f761a3393060",
        "colab": {
          "base_uri": "https://localhost:8080/",
          "height": 34
        }
      },
      "source": [
        "test_labels[index]"
      ],
      "execution_count": 0,
      "outputs": [
        {
          "output_type": "execute_result",
          "data": {
            "text/plain": [
              "9"
            ]
          },
          "metadata": {
            "tags": []
          },
          "execution_count": 22
        }
      ]
    },
    {
      "cell_type": "code",
      "metadata": {
        "id": "5z8UXzYHW0NV",
        "colab_type": "code",
        "colab": {}
      },
      "source": [
        "def plot_image(i, predictions_array, true_label, img):\n",
        "  predictions_array, true_label, img = predictions_array[i], true_label[i], img[i]\n",
        "  plt.grid(False)\n",
        "  plt.xticks([])\n",
        "  plt.yticks([])\n",
        "\n",
        "  plt.imshow(img, cmap=plt.cm.binary)\n",
        "\n",
        "  predicted_label = np.argmax(predictions_array)\n",
        "  if predicted_label == true_label:\n",
        "    color = 'blue'\n",
        "  else:\n",
        "    color = 'red'\n",
        "\n",
        "  plt.xlabel(\"{} {:2.0f}% ({})\".format(class_names[predicted_label],\n",
        "                                100*np.max(predictions_array),\n",
        "                                class_names[true_label]),\n",
        "                                color=color)\n",
        "\n",
        "def plot_value_array(i, predictions_array, true_label):\n",
        "  predictions_array, true_label = predictions_array[i], true_label[i]\n",
        "  plt.grid(False)\n",
        "  plt.xticks([])\n",
        "  plt.yticks([])\n",
        "  thisplot = plt.bar(range(10), predictions_array, color=\"#777777\")\n",
        "  plt.ylim([0, 1])\n",
        "  predicted_label = np.argmax(predictions_array)\n",
        "\n",
        "  thisplot[predicted_label].set_color('red')\n",
        "  thisplot[true_label].set_color('blue')"
      ],
      "execution_count": 0,
      "outputs": []
    },
    {
      "cell_type": "code",
      "metadata": {
        "id": "zt5AUKVlW7gk",
        "colab_type": "code",
        "outputId": "5c885be4-d614-425f-97fb-e3f7226190da",
        "colab": {
          "base_uri": "https://localhost:8080/",
          "height": 203
        }
      },
      "source": [
        "index = 0\n",
        "plt.figure(figsize=(6,3))\n",
        "plt.subplot(1,2,1)\n",
        "plot_image(index, predictions, test_labels, test_images)\n",
        "plt.subplot(1,2,2)\n",
        "plot_value_array(index, predictions,  test_labels)\n"
      ],
      "execution_count": 0,
      "outputs": [
        {
          "output_type": "display_data",
          "data": {
            "image/png": "[encoded data removed]",
            "text/plain": [
              "<Figure size 432x216 with 2 Axes>"
            ]
          },
          "metadata": {
            "tags": []
          }
        }
      ]
    },
    {
      "cell_type": "code",
      "metadata": {
        "id": "tD61VS-IXHk8",
        "colab_type": "code",
        "outputId": "2ef50361-b92d-4e81-e55c-0afe90e0f5bf",
        "colab": {
          "base_uri": "https://localhost:8080/",
          "height": 589
        }
      },
      "source": [
        "# Plot the first X test images, their predicted label, and the true label\n",
        "# Color correct predictions in blue, incorrect predictions in red\n",
        "num_rows = 5\n",
        "num_cols = 3\n",
        "num_images = num_rows*num_cols\n",
        "plt.figure(figsize=(2*2*num_cols, 2*num_rows))\n",
        "for i in range(num_images):\n",
        "  plt.subplot(num_rows, 2*num_cols, 2*i+1)\n",
        "  plot_image(i, predictions, test_labels, test_images)\n",
        "  plt.subplot(num_rows, 2*num_cols, 2*i+2)\n",
        "  plot_value_array(i, predictions, test_labels)\n"
      ],
      "execution_count": 0,
      "outputs": [
        {
          "output_type": "display_data",
          "data": {
            "image/png": "[encoded data removed]",
            "text/plain": [
              "<Figure size 864x720 with 30 Axes>"
            ]
          },
          "metadata": {
            "tags": []
          }
        }
      ]
    },
    {
      "cell_type": "markdown",
      "metadata": {
        "id": "MX2EqMuqOskz",
        "colab_type": "text"
      },
      "source": [
        "## Make prediction about a single image"
      ]
    },
    {
      "cell_type": "code",
      "metadata": {
        "id": "pHhfS4T3XQs8",
        "colab_type": "code",
        "outputId": "3596e76c-26e1-4a1f-c9dc-1168a62630f3",
        "colab": {
          "base_uri": "https://localhost:8080/",
          "height": 34
        }
      },
      "source": [
        "index = 0\n",
        "test_image = test_images[index]\n",
        "print(test_image.shape)"
      ],
      "execution_count": 0,
      "outputs": [
        {
          "output_type": "stream",
          "text": [
            "(28, 28)\n"
          ],
          "name": "stdout"
        }
      ]
    },
    {
      "cell_type": "code",
      "metadata": {
        "id": "owI75SpDO6s7",
        "colab_type": "code",
        "outputId": "f8bc2d56-f0f8-415e-bf80-a7ecf98649f5",
        "colab": {
          "base_uri": "https://localhost:8080/",
          "height": 34
        }
      },
      "source": [
        "# Add the image to a batch where it's the only member\n",
        "test_image_single = (np.expand_dims(test_image, 0))\n",
        "print(test_image_single.shape)"
      ],
      "execution_count": 0,
      "outputs": [
        {
          "output_type": "stream",
          "text": [
            "(1, 28, 28)\n"
          ],
          "name": "stdout"
        }
      ]
    },
    {
      "cell_type": "code",
      "metadata": {
        "id": "zTz4dMqjQRw0",
        "colab_type": "code",
        "outputId": "735be5cb-4433-4d37-8d4a-dfaced81b887",
        "colab": {
          "base_uri": "https://localhost:8080/",
          "height": 50
        }
      },
      "source": [
        "predictions_single = model.predict(test_image_single)\n",
        "print(predictions_single)"
      ],
      "execution_count": 0,
      "outputs": [
        {
          "output_type": "stream",
          "text": [
            "[[2.9914373e-11 7.4761225e-11 1.6990804e-12 9.6231921e-16 1.2249648e-12\n",
            "  9.5189570e-08 9.6787389e-10 7.6151005e-04 2.6918619e-12 9.9923837e-01]]\n"
          ],
          "name": "stdout"
        }
      ]
    },
    {
      "cell_type": "code",
      "metadata": {
        "id": "9e2oW3-iQgjU",
        "colab_type": "code",
        "outputId": "a13bbdbc-6945-43b6-8f64-5946a3868b2b",
        "colab": {
          "base_uri": "https://localhost:8080/",
          "height": 377
        }
      },
      "source": [
        "plot_value_array(0, predictions_single, test_labels)\n",
        "_ = plt.xticks(range(10), class_names, rotation=45)"
      ],
      "execution_count": 0,
      "outputs": [
        {
          "output_type": "display_data",
          "data": {
            "image/png": "[encoded data removed]",
            "text/plain": [
              "<Figure size 576x396 with 1 Axes>"
            ]
          },
          "metadata": {
            "tags": []
          }
        }
      ]
    },
    {
      "cell_type": "code",
      "metadata": {
        "id": "DnB5hIuwQ51U",
        "colab_type": "code",
        "outputId": "8a75b7cf-1685-4622-98f0-b3d84e462b42",
        "colab": {
          "base_uri": "https://localhost:8080/",
          "height": 347
        }
      },
      "source": [
        "plt.imshow(test_image, cmap=plt.cm.binary)\n",
        "plt.grid(None)"
      ],
      "execution_count": 0,
      "outputs": [
        {
          "output_type": "display_data",
          "data": {
            "image/png": "[encoded data removed]",
            "text/plain": [
              "<Figure size 576x396 with 1 Axes>"
            ]
          },
          "metadata": {
            "tags": []
          }
        }
      ]
    },
    {
      "cell_type": "code",
      "metadata": {
        "id": "PHmmIC94RoTs",
        "colab_type": "code",
        "outputId": "a0e3ae39-6f90-4bb4-bdac-da58cd2533ac",
        "colab": {
          "base_uri": "https://localhost:8080/",
          "height": 34
        }
      },
      "source": [
        "np.argmax(predictions_single[0])"
      ],
      "execution_count": 0,
      "outputs": [
        {
          "output_type": "execute_result",
          "data": {
            "text/plain": [
              "9"
            ]
          },
          "metadata": {
            "tags": []
          },
          "execution_count": 31
        }
      ]
    },
    {
      "cell_type": "code",
      "metadata": {
        "id": "PS_usZ3vTCDs",
        "colab_type": "code",
        "outputId": "0981b3a2-2383-409a-e440-222469c7e710",
        "colab": {
          "base_uri": "https://localhost:8080/",
          "height": 34
        }
      },
      "source": [
        "test_labels[index]"
      ],
      "execution_count": 0,
      "outputs": [
        {
          "output_type": "execute_result",
          "data": {
            "text/plain": [
              "9"
            ]
          },
          "metadata": {
            "tags": []
          },
          "execution_count": 32
        }
      ]
    },
    {
      "cell_type": "code",
      "metadata": {
        "id": "XLZp0UpVTFJU",
        "colab_type": "code",
        "colab": {}
      },
      "source": [
        ""
      ],
      "execution_count": 0,
      "outputs": []
    }
  ]
}